{
 "cells": [
  {
   "cell_type": "markdown",
   "metadata": {},
   "source": [
    "## 0. Load libaries & Init maze"
   ]
  },
  {
   "cell_type": "code",
   "execution_count": 125,
   "metadata": {
    "collapsed": false,
    "pycharm": {
     "name": "#%%\n"
    }
   },
   "outputs": [],
   "source": [
    "import numpy as np\n",
    "import mdp1 as mz\n",
    "import importlib\n",
    "importlib.reload(mz)\n",
    "import sys\n",
    "stdout = sys.stdout\n",
    "sys.stdout = stdout\n",
    "import matplotlib.pyplot as plt\n"
   ]
  },
  {
   "cell_type": "code",
   "execution_count": 45,
   "metadata": {},
   "outputs": [],
   "source": [
    "# Description of the maze as a numpy array\n",
    "maze = np.array([\n",
    "    [0, 0, 1, 0, 0, 0, 0, 0],\n",
    "    [0, 0, 1, 0, 0, 1, 0, 0],\n",
    "    [0, 0, 1, 0, 0, 1, 1, 1],\n",
    "    [0, 0, 1, 0, 0, 1, 0, 0],\n",
    "    [0, 0, 0, 0, 0, 0, 0, 0],\n",
    "    [0, 1, 1, 1, 1, 1, 1, 0],\n",
    "    [0, 0, 0, 0, 1, 2, 0, 0]\n",
    "])\n"
   ]
  },
  {
   "cell_type": "markdown",
   "metadata": {},
   "source": [
    "## 2c)"
   ]
  },
  {
   "cell_type": "markdown",
   "metadata": {},
   "source": [
    "#### i) Create environment and compute policy"
   ]
  },
  {
   "cell_type": "code",
   "execution_count": 51,
   "metadata": {
    "collapsed": false,
    "pycharm": {
     "name": "#%%\n"
    }
   },
   "outputs": [],
   "source": [
    "# Horizon\n",
    "T = 20\n",
    "\n",
    "# Create an environment maze\n",
    "env = mz.Maze(maze, T, minotaur_stay=False)\n",
    "\n",
    "# Solves the shortest path problem using dynamic programming\n",
    "V, policy = mz.dynamic_programming(env, T)"
   ]
  },
  {
   "cell_type": "markdown",
   "metadata": {},
   "source": [
    "#### ii) Animate Solution"
   ]
  },
  {
   "cell_type": "code",
   "execution_count": 52,
   "metadata": {},
   "outputs": [
    {
     "data": {
      "image/png": "[encoded data removed]",
      "text/plain": [
       "<Figure size 800x700 with 1 Axes>"
      ]
     },
     "metadata": {},
     "output_type": "display_data"
    }
   ],
   "source": [
    "# Method applied\n",
    "method = 'DynProg'\n",
    "\n",
    "# Start cell in the maze (player_x, player_y, minotaur_x, minotaur_y)\n",
    "start = (0, 0, 6, 5)\n",
    "isWin, isLost, steps, path = env.simulate(start, policy, method)\n",
    "mz.print_path(path)\n",
    "# Animate the shortest path\n",
    "mz.animate_solution(maze, path)\n"
   ]
  },
  {
   "cell_type": "markdown",
   "metadata": {},
   "source": [
    "#### iii) Illustrate Policy"
   ]
  },
  {
   "cell_type": "code",
   "execution_count": 60,
   "metadata": {},
   "outputs": [
    {
     "data": {
      "image/png": "[encoded data removed]",
      "text/plain": [
       "<Figure size 800x700 with 1 Axes>"
      ]
     },
     "metadata": {},
     "output_type": "display_data"
    }
   ],
   "source": [
    "minotaur_pos = (5, 5)\n",
    "env.draw_path(policy, 19, minotaur_pos)"
   ]
  },
  {
   "cell_type": "markdown",
   "metadata": {},
   "source": [
    "## 2d)"
   ]
  },
  {
   "cell_type": "markdown",
   "metadata": {},
   "source": [
    "##### Create environment and policy for Minotaur not allowed to stay"
   ]
  },
  {
   "cell_type": "code",
   "execution_count": 126,
   "metadata": {
    "collapsed": false,
    "pycharm": {
     "name": "#%%\n"
    }
   },
   "outputs": [],
   "source": [
    "# Horizon\n",
    "T = 30\n",
    "# Create an environment maze\n",
    "env = mz.Maze(maze, T,minotaur_stay=False)\n",
    "# Solves the shortest path problem using dynamic programming\n",
    "V, policy = mz.dynamic_programming(env, T)"
   ]
  },
  {
   "cell_type": "markdown",
   "metadata": {},
   "source": [
    "##### Create environment and policy for Minotaur allowed to stay"
   ]
  },
  {
   "cell_type": "code",
   "execution_count": 127,
   "metadata": {},
   "outputs": [],
   "source": [
    "# Horizon\n",
    "T = 30\n",
    "# Create an environment maze\n",
    "env_stay = mz.Maze(maze, T, minotaur_stay=True)\n",
    "# Solves the shortest path problem using dynamic programming\n",
    "V_stay, policy_stay = mz.dynamic_programming(env_stay, T)"
   ]
  },
  {
   "cell_type": "markdown",
   "metadata": {},
   "source": [
    "##### Compute P(win) and distribution over number of steps needed to win"
   ]
  },
  {
   "cell_type": "code",
   "execution_count": 128,
   "metadata": {
    "collapsed": false,
    "pycharm": {
     "name": "#%%\n"
    }
   },
   "outputs": [],
   "source": [
    "# Method applied\n",
    "method = 'DynProg'\n",
    "# Compute Probability of exiting the maze\n",
    "start = (0, 0, 5, 5)\n",
    "trials = 10000\n",
    "\n",
    "# minotaur can't stay\n",
    "prob_win, step_dis_win, step_dis_los = env.compute_prob(\n",
    "    start, policy, method, trials)\n",
    "# minotaur allowed to stay\n",
    "prob_win_stay, step_dis_win_stay, step_dis_los_stay = env_stay.compute_prob(\n",
    "    start, policy_stay, method, trials)\n",
    "prob_loose = round(1-prob_win,5)\n",
    "prob_loose_stay = round(1-prob_win_stay,5)\n"
   ]
  },
  {
   "cell_type": "markdown",
   "metadata": {},
   "source": [
    "##### Plot Step Distributions"
   ]
  },
  {
   "cell_type": "code",
   "execution_count": 1,
   "metadata": {},
   "outputs": [
    {
     "ename": "NameError",
     "evalue": "name 'plt' is not defined",
     "output_type": "error",
     "traceback": [
      "\u001b[1;31m---------------------------------------------------------------------------\u001b[0m",
      "\u001b[1;31mNameError\u001b[0m                                 Traceback (most recent call last)",
      "Cell \u001b[1;32mIn [1], line 1\u001b[0m\n\u001b[1;32m----> 1\u001b[0m fig, axes \u001b[39m=\u001b[39m plt\u001b[39m.\u001b[39msubplots(nrows\u001b[39m=\u001b[39m\u001b[39m2\u001b[39m, ncols\u001b[39m=\u001b[39m\u001b[39m2\u001b[39m, figsize\u001b[39m=\u001b[39m(\u001b[39m12\u001b[39m, \u001b[39m8\u001b[39m))\n\u001b[0;32m      2\u001b[0m axes[\u001b[39m0\u001b[39m][\u001b[39m0\u001b[39m]\u001b[39m.\u001b[39mbar(\u001b[39mrange\u001b[39m(\u001b[39mlen\u001b[39m(step_dis_win)), \u001b[39mlist\u001b[39m(\n\u001b[0;32m      3\u001b[0m     step_dis_win\u001b[39m.\u001b[39mvalues()), align\u001b[39m=\u001b[39m\u001b[39m'\u001b[39m\u001b[39mcenter\u001b[39m\u001b[39m'\u001b[39m, label\u001b[39m=\u001b[39m\u001b[39mf\u001b[39m\u001b[39m'\u001b[39m\u001b[39mP(win)=\u001b[39m\u001b[39m{\u001b[39;00mprob_win\u001b[39m}\u001b[39;00m\u001b[39m'\u001b[39m)\n\u001b[0;32m      4\u001b[0m axes[\u001b[39m0\u001b[39m][\u001b[39m0\u001b[39m]\u001b[39m.\u001b[39mlegend()\n",
      "\u001b[1;31mNameError\u001b[0m: name 'plt' is not defined"
     ]
    }
   ],
   "source": [
    "fig, axes = plt.subplots(nrows=2, ncols=2, figsize=(12, 8))\n",
    "axes[0][0].bar(range(len(step_dis_win)), list(\n",
    "    step_dis_win.values()), align='center', label=f'P(win)={prob_win}')\n",
    "axes[0][0].legend()\n",
    "axes[0][0].title.set_text('Winning - Minotaur must move')\n",
    "axes[0][1].bar(range(len(step_dis_win_stay)), list(\n",
    "    step_dis_win_stay.values()), align='center', label=f'P(win)={prob_win_stay}')\n",
    "axes[0][1].legend()\n",
    "axes[0][1].title.set_text('Winning - Minotaur can stay')\n",
    "axes[1][0].bar(range(len(step_dis_los)), list(\n",
    "    step_dis_los.values()), align='center', label=f'P(Loose)={prob_loose}')\n",
    "axes[1][0].legend()\n",
    "axes[1][0].title.set_text('Losing - Minotaur must move')\n",
    "axes[1][1].bar(range(len(step_dis_los_stay)), list(\n",
    "    step_dis_los_stay.values()), align='center', label=f'P(Loose)={prob_loose_stay}')\n",
    "axes[1][1].legend()\n",
    "axes[1][1].title.set_text('Losing - Minotaur can stay')\n",
    "fig.text(0.5, 0.01, 'test', wrap=True,\n",
    "            horizontalalignment='center', fontsize=12)\n",
    "\n",
    "\n",
    "\n"
   ]
  }
 ],
 "metadata": {
  "kernelspec": {
   "display_name": "Python 3.9.7 ('env_labs': venv)",
   "language": "python",
   "name": "python3"
  },
  "language_info": {
   "codemirror_mode": {
    "name": "ipython",
    "version": 3
   },
   "file_extension": ".py",
   "mimetype": "text/x-python",
   "name": "python",
   "nbconvert_exporter": "python",
   "pygments_lexer": "ipython3",
   "version": "3.9.7"
  },
  "vscode": {
   "interpreter": {
    "hash": "daeee929254b315da2c50b70755583478d0715da0f98a123d815c6798643e2e5"
   }
  }
 },
 "nbformat": 4,
 "nbformat_minor": 0
}
