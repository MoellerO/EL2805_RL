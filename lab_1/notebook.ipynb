{
 "cells": [
  {
   "cell_type": "code",
   "execution_count": 25,
   "id": "14d6ff34-d14c-4d0f-b06b-6373d4269b6a",
   "metadata": {},
   "outputs": [],
   "source": [
    "import numpy as np\n",
    "import maze as mz\n"
   ]
  },
  {
   "cell_type": "code",
   "execution_count": 49,
   "id": "cd0bb065-c27c-4a25-b64c-bba5751748ae",
   "metadata": {},
   "outputs": [
    {
     "data": {
      "text/plain": [
       "<module 'maze' from 'C:\\\\Users\\\\OliverMöller\\\\OneDrive - ondevi GmbH\\\\Dokumente\\\\GitHub\\\\EL2805_RL\\\\lab_1\\\\maze.py'>"
      ]
     },
     "execution_count": 49,
     "metadata": {},
     "output_type": "execute_result"
    }
   ],
   "source": [
    "import importlib\n",
    "importlib.reload(mz)"
   ]
  },
  {
   "cell_type": "code",
   "execution_count": 54,
   "id": "1b28a27e-674c-437c-9eaf-0c191bebe6f3",
   "metadata": {},
   "outputs": [
    {
     "name": "stdout",
     "output_type": "stream",
     "text": [
      "[(0, 0, 6, 6), (0, 1, 6, 5), (1, 1, 6, 6), (2, 1, 5, 6), (3, 1, 5, 7), (4, 1, 5, 6), (4, 2, 4, 6), (4, 3, 4, 5), (4, 3, 4, 4), (4, 4, 4, 3), (4, 5, 5, 3), (4, 6, 5, 2), (4, 7, 6, 2), (5, 7, 5, 2), (6, 7, 4, 2), (6, 6, 3, 2), (6, 5, 3, 3), (6, 5, 2, 3), (6, 5, 2, 4), (6, 5, 1, 4), (6, 5, 2, 4)]\n"
     ]
    }
   ],
   "source": [
    "field = np.array([\n",
    "    [0, 0, 1, 0, 0, 0, 0, 0],\n",
    "    [0, 0, 1, 0, 0, 1, 0, 0],\n",
    "    [0, 0, 1, 0, 0, 1, 1, 1],\n",
    "    [0, 0, 1, 0, 0, 1, 0, 0],\n",
    "    [0, 0, 0, 0, 0, 0, 0, 0],\n",
    "    [0, 1, 1, 1, 1, 1, 1, 0],\n",
    "    [0, 0, 0, 0, 1, 2, 0, 0]\n",
    "])\n",
    "\n",
    "# mz.draw_maze(maze)\n",
    "env = mz.Maze(field)\n",
    "# print(env.n_states)\n",
    "# print(env.rewards)\n",
    "# print(env.minotaur)\n",
    "\n",
    "# Finite horizon\n",
    "horizon = 20\n",
    "# Solve the MDP problem with dynamic programming\n",
    "V, policy = mz.dynamic_programming(env, horizon)\n",
    "method = 'DynProg'\n",
    "# first two digits are player positions, last two minotaur\n",
    "start = (0, 0, 6, 6)\n",
    "path = env.simulate(start, policy, method)\n",
    "print(path)\n",
    "\n"
   ]
  },
  {
   "cell_type": "code",
   "execution_count": 55,
   "id": "b9c20015-5eae-4344-ba6b-efe2e6c6281f",
   "metadata": {},
   "outputs": [
    {
     "data": {
      "image/png": "[encoded data removed]",
      "text/plain": [
       "<Figure size 576x504 with 1 Axes>"
      ]
     },
     "metadata": {},
     "output_type": "display_data"
    }
   ],
   "source": [
    "# Show the shortest path\n",
    "mz.animate_solution(field, path)"
   ]
  }
 ],
 "metadata": {
  "kernelspec": {
   "display_name": "Python 3",
   "language": "python",
   "name": "python3"
  },
  "language_info": {
   "codemirror_mode": {
    "name": "ipython",
    "version": 3
   },
   "file_extension": ".py",
   "mimetype": "text/x-python",
   "name": "python",
   "nbconvert_exporter": "python",
   "pygments_lexer": "ipython3",
   "version": "3.8.8"
  }
 },
 "nbformat": 4,
 "nbformat_minor": 5
}
